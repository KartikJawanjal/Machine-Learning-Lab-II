{
 "metadata": {
  "language_info": {
   "codemirror_mode": {
    "name": "ipython",
    "version": 3
   },
   "file_extension": ".py",
   "mimetype": "text/x-python",
   "name": "python",
   "nbconvert_exporter": "python",
   "pygments_lexer": "ipython3",
   "version": "3.7.6-final"
  },
  "orig_nbformat": 2,
  "kernelspec": {
   "name": "python_defaultSpec_1597387824587",
   "display_name": "Python 3.7.6 64-bit ('base': conda)"
  }
 },
 "nbformat": 4,
 "nbformat_minor": 2,
 "cells": [
  {
   "cell_type": "code",
   "execution_count": 58,
   "metadata": {},
   "outputs": [],
   "source": [
    "import pandas as pd\n",
    "import numpy as np\n",
    "import tensorflow as tf\n",
    "from tensorflow import keras\n",
    "from tensorflow.keras import layers,models\n",
    "from sklearn.model_selection import train_test_split\n",
    "from sklearn.preprocessing import StandardScaler\n"
   ]
  },
  {
   "cell_type": "code",
   "execution_count": 59,
   "metadata": {},
   "outputs": [],
   "source": [
    "df=pd.read_csv(\"diabetes.csv\")"
   ]
  },
  {
   "cell_type": "code",
   "execution_count": 60,
   "metadata": {},
   "outputs": [],
   "source": [
    "x=df.iloc[:,0:8]\n",
    "y=df[\"Outcome\"]\n",
    "obj=StandardScaler()\n",
    "x_=obj.fit_transform(x)\n",
    "Xtrain,Xtest,Ytrain,Ytest=train_test_split(x_,y,test_size=0.15)"
   ]
  },
  {
   "cell_type": "code",
   "execution_count": 61,
   "metadata": {},
   "outputs": [],
   "source": [
    "model=models.Sequential()\n",
    "#model.add(layers.Dense(40,activation=\"relu\"))\n",
    "#model.add(layers.Dense(25,activation=\"relu\"))\n",
    "model.add(layers.Dense(12,activation=\"relu\"))\n",
    "model.add(layers.Dense(8,activation=\"relu\"))\n",
    "model.add(layers.Dense(1,activation=\"sigmoid\"))"
   ]
  },
  {
   "cell_type": "code",
   "execution_count": 62,
   "metadata": {},
   "outputs": [
    {
     "output_type": "execute_result",
     "data": {
      "text/plain": "<bound method Model.summary of <tensorflow.python.keras.engine.sequential.Sequential object at 0x00000235EB8867C8>>"
     },
     "metadata": {},
     "execution_count": 62
    }
   ],
   "source": [
    "model.summary"
   ]
  },
  {
   "cell_type": "code",
   "execution_count": 63,
   "metadata": {},
   "outputs": [],
   "source": [
    "model.compile(optimizer=\"adam\",loss=\"binary_crossentropy\",metrics=[\"accuracy\"])"
   ]
  },
  {
   "cell_type": "code",
   "execution_count": 64,
   "metadata": {
    "tags": []
   },
   "outputs": [
    {
     "output_type": "stream",
     "name": "stdout",
     "text": "Epoch 1/100\n21/21 [==============================] - 0s 10ms/step - loss: 0.6928 - accuracy: 0.4126 - val_loss: 0.6844 - val_accuracy: 0.5172\nEpoch 2/100\n21/21 [==============================] - 0s 3ms/step - loss: 0.6782 - accuracy: 0.5491 - val_loss: 0.6722 - val_accuracy: 0.5948\nEpoch 3/100\n21/21 [==============================] - 0s 3ms/step - loss: 0.6659 - accuracy: 0.6472 - val_loss: 0.6620 - val_accuracy: 0.6983\nEpoch 4/100\n21/21 [==============================] - 0s 3ms/step - loss: 0.6546 - accuracy: 0.6963 - val_loss: 0.6513 - val_accuracy: 0.7414\nEpoch 5/100\n21/21 [==============================] - 0s 3ms/step - loss: 0.6426 - accuracy: 0.7285 - val_loss: 0.6382 - val_accuracy: 0.7586\nEpoch 6/100\n21/21 [==============================] - 0s 3ms/step - loss: 0.6298 - accuracy: 0.7423 - val_loss: 0.6222 - val_accuracy: 0.7759\nEpoch 7/100\n21/21 [==============================] - 0s 3ms/step - loss: 0.6156 - accuracy: 0.7515 - val_loss: 0.6046 - val_accuracy: 0.7759\nEpoch 8/100\n21/21 [==============================] - 0s 3ms/step - loss: 0.5999 - accuracy: 0.7546 - val_loss: 0.5837 - val_accuracy: 0.7845\nEpoch 9/100\n21/21 [==============================] - 0s 4ms/step - loss: 0.5816 - accuracy: 0.7592 - val_loss: 0.5635 - val_accuracy: 0.7931\nEpoch 10/100\n21/21 [==============================] - 0s 3ms/step - loss: 0.5639 - accuracy: 0.7623 - val_loss: 0.5389 - val_accuracy: 0.7931\nEpoch 11/100\n21/21 [==============================] - 0s 3ms/step - loss: 0.5441 - accuracy: 0.7745 - val_loss: 0.5154 - val_accuracy: 0.8017\nEpoch 12/100\n21/21 [==============================] - 0s 3ms/step - loss: 0.5252 - accuracy: 0.7776 - val_loss: 0.4959 - val_accuracy: 0.8017\nEpoch 13/100\n21/21 [==============================] - 0s 4ms/step - loss: 0.5109 - accuracy: 0.7684 - val_loss: 0.4803 - val_accuracy: 0.8103\nEpoch 14/100\n21/21 [==============================] - 0s 4ms/step - loss: 0.5018 - accuracy: 0.7745 - val_loss: 0.4685 - val_accuracy: 0.8103\nEpoch 15/100\n21/21 [==============================] - 0s 3ms/step - loss: 0.4938 - accuracy: 0.7776 - val_loss: 0.4602 - val_accuracy: 0.8190\nEpoch 16/100\n21/21 [==============================] - 0s 3ms/step - loss: 0.4884 - accuracy: 0.7807 - val_loss: 0.4540 - val_accuracy: 0.8276\nEpoch 17/100\n21/21 [==============================] - 0s 3ms/step - loss: 0.4827 - accuracy: 0.7761 - val_loss: 0.4481 - val_accuracy: 0.8276\nEpoch 18/100\n21/21 [==============================] - 0s 3ms/step - loss: 0.4794 - accuracy: 0.7837 - val_loss: 0.4438 - val_accuracy: 0.8276\nEpoch 19/100\n21/21 [==============================] - 0s 4ms/step - loss: 0.4762 - accuracy: 0.7822 - val_loss: 0.4407 - val_accuracy: 0.8276\nEpoch 20/100\n21/21 [==============================] - 0s 4ms/step - loss: 0.4730 - accuracy: 0.7807 - val_loss: 0.4372 - val_accuracy: 0.8362\nEpoch 21/100\n21/21 [==============================] - 0s 5ms/step - loss: 0.4709 - accuracy: 0.7837 - val_loss: 0.4370 - val_accuracy: 0.8362\nEpoch 22/100\n21/21 [==============================] - 0s 5ms/step - loss: 0.4685 - accuracy: 0.7868 - val_loss: 0.4365 - val_accuracy: 0.8362\nEpoch 23/100\n21/21 [==============================] - 0s 4ms/step - loss: 0.4672 - accuracy: 0.7853 - val_loss: 0.4336 - val_accuracy: 0.8362\nEpoch 24/100\n21/21 [==============================] - 0s 4ms/step - loss: 0.4650 - accuracy: 0.7868 - val_loss: 0.4336 - val_accuracy: 0.8362\nEpoch 25/100\n21/21 [==============================] - 0s 5ms/step - loss: 0.4643 - accuracy: 0.7807 - val_loss: 0.4320 - val_accuracy: 0.8362\nEpoch 26/100\n21/21 [==============================] - 0s 5ms/step - loss: 0.4627 - accuracy: 0.7791 - val_loss: 0.4343 - val_accuracy: 0.8362\nEpoch 27/100\n21/21 [==============================] - 0s 6ms/step - loss: 0.4614 - accuracy: 0.7853 - val_loss: 0.4328 - val_accuracy: 0.8362\nEpoch 28/100\n21/21 [==============================] - 0s 5ms/step - loss: 0.4596 - accuracy: 0.7883 - val_loss: 0.4328 - val_accuracy: 0.8362\nEpoch 29/100\n21/21 [==============================] - 0s 4ms/step - loss: 0.4586 - accuracy: 0.7837 - val_loss: 0.4336 - val_accuracy: 0.8362\nEpoch 30/100\n21/21 [==============================] - 0s 5ms/step - loss: 0.4574 - accuracy: 0.7776 - val_loss: 0.4326 - val_accuracy: 0.8362\nEpoch 31/100\n21/21 [==============================] - 0s 5ms/step - loss: 0.4565 - accuracy: 0.7837 - val_loss: 0.4310 - val_accuracy: 0.8362\nEpoch 32/100\n21/21 [==============================] - 0s 4ms/step - loss: 0.4558 - accuracy: 0.7837 - val_loss: 0.4318 - val_accuracy: 0.8362\nEpoch 33/100\n21/21 [==============================] - 0s 4ms/step - loss: 0.4542 - accuracy: 0.7837 - val_loss: 0.4320 - val_accuracy: 0.8362\nEpoch 34/100\n21/21 [==============================] - 0s 4ms/step - loss: 0.4537 - accuracy: 0.7776 - val_loss: 0.4319 - val_accuracy: 0.8362\nEpoch 35/100\n21/21 [==============================] - 0s 5ms/step - loss: 0.4528 - accuracy: 0.7853 - val_loss: 0.4312 - val_accuracy: 0.8276\nEpoch 36/100\n21/21 [==============================] - 0s 5ms/step - loss: 0.4514 - accuracy: 0.7883 - val_loss: 0.4305 - val_accuracy: 0.8362\nEpoch 37/100\n21/21 [==============================] - 0s 4ms/step - loss: 0.4510 - accuracy: 0.7822 - val_loss: 0.4319 - val_accuracy: 0.8362\nEpoch 38/100\n21/21 [==============================] - 0s 4ms/step - loss: 0.4493 - accuracy: 0.7822 - val_loss: 0.4315 - val_accuracy: 0.8362\nEpoch 39/100\n21/21 [==============================] - 0s 4ms/step - loss: 0.4484 - accuracy: 0.7853 - val_loss: 0.4315 - val_accuracy: 0.8362\nEpoch 40/100\n21/21 [==============================] - 0s 4ms/step - loss: 0.4475 - accuracy: 0.7837 - val_loss: 0.4317 - val_accuracy: 0.8362\nEpoch 41/100\n21/21 [==============================] - 0s 5ms/step - loss: 0.4469 - accuracy: 0.7822 - val_loss: 0.4318 - val_accuracy: 0.8276\nEpoch 42/100\n21/21 [==============================] - 0s 3ms/step - loss: 0.4462 - accuracy: 0.7822 - val_loss: 0.4321 - val_accuracy: 0.8362\nEpoch 43/100\n21/21 [==============================] - 0s 4ms/step - loss: 0.4449 - accuracy: 0.7822 - val_loss: 0.4325 - val_accuracy: 0.8362\nEpoch 44/100\n21/21 [==============================] - 0s 4ms/step - loss: 0.4444 - accuracy: 0.7791 - val_loss: 0.4318 - val_accuracy: 0.8362\nEpoch 45/100\n21/21 [==============================] - 0s 4ms/step - loss: 0.4437 - accuracy: 0.7837 - val_loss: 0.4333 - val_accuracy: 0.8362\nEpoch 46/100\n21/21 [==============================] - 0s 4ms/step - loss: 0.4429 - accuracy: 0.7822 - val_loss: 0.4332 - val_accuracy: 0.8362\nEpoch 47/100\n21/21 [==============================] - 0s 4ms/step - loss: 0.4426 - accuracy: 0.7791 - val_loss: 0.4342 - val_accuracy: 0.8362\nEpoch 48/100\n21/21 [==============================] - 0s 4ms/step - loss: 0.4411 - accuracy: 0.7807 - val_loss: 0.4345 - val_accuracy: 0.8362\nEpoch 49/100\n21/21 [==============================] - 0s 4ms/step - loss: 0.4408 - accuracy: 0.7837 - val_loss: 0.4354 - val_accuracy: 0.8362\nEpoch 50/100\n21/21 [==============================] - 0s 4ms/step - loss: 0.4405 - accuracy: 0.7853 - val_loss: 0.4352 - val_accuracy: 0.8276\nEpoch 51/100\n21/21 [==============================] - 0s 6ms/step - loss: 0.4396 - accuracy: 0.7807 - val_loss: 0.4371 - val_accuracy: 0.8362\nEpoch 52/100\n21/21 [==============================] - 0s 5ms/step - loss: 0.4399 - accuracy: 0.7791 - val_loss: 0.4361 - val_accuracy: 0.8276\nEpoch 53/100\n21/21 [==============================] - 0s 4ms/step - loss: 0.4379 - accuracy: 0.7807 - val_loss: 0.4377 - val_accuracy: 0.8362\nEpoch 54/100\n21/21 [==============================] - 0s 4ms/step - loss: 0.4376 - accuracy: 0.7837 - val_loss: 0.4375 - val_accuracy: 0.8362\nEpoch 55/100\n21/21 [==============================] - 0s 4ms/step - loss: 0.4374 - accuracy: 0.7807 - val_loss: 0.4363 - val_accuracy: 0.8276\nEpoch 56/100\n21/21 [==============================] - 0s 4ms/step - loss: 0.4376 - accuracy: 0.7822 - val_loss: 0.4374 - val_accuracy: 0.8276\nEpoch 57/100\n21/21 [==============================] - 0s 4ms/step - loss: 0.4357 - accuracy: 0.7822 - val_loss: 0.4385 - val_accuracy: 0.8276\nEpoch 58/100\n21/21 [==============================] - 0s 4ms/step - loss: 0.4350 - accuracy: 0.7822 - val_loss: 0.4394 - val_accuracy: 0.8276\nEpoch 59/100\n21/21 [==============================] - 0s 3ms/step - loss: 0.4346 - accuracy: 0.7822 - val_loss: 0.4395 - val_accuracy: 0.8190\nEpoch 60/100\n21/21 [==============================] - 0s 3ms/step - loss: 0.4337 - accuracy: 0.7853 - val_loss: 0.4411 - val_accuracy: 0.8276\nEpoch 61/100\n21/21 [==============================] - 0s 4ms/step - loss: 0.4335 - accuracy: 0.7837 - val_loss: 0.4414 - val_accuracy: 0.8190\nEpoch 62/100\n21/21 [==============================] - 0s 3ms/step - loss: 0.4325 - accuracy: 0.7853 - val_loss: 0.4419 - val_accuracy: 0.8190\nEpoch 63/100\n21/21 [==============================] - 0s 3ms/step - loss: 0.4321 - accuracy: 0.7807 - val_loss: 0.4419 - val_accuracy: 0.8190\nEpoch 64/100\n21/21 [==============================] - 0s 3ms/step - loss: 0.4321 - accuracy: 0.7837 - val_loss: 0.4425 - val_accuracy: 0.8276\nEpoch 65/100\n21/21 [==============================] - 0s 3ms/step - loss: 0.4309 - accuracy: 0.7853 - val_loss: 0.4433 - val_accuracy: 0.8190\nEpoch 66/100\n21/21 [==============================] - 0s 3ms/step - loss: 0.4305 - accuracy: 0.7822 - val_loss: 0.4459 - val_accuracy: 0.8103\nEpoch 67/100\n21/21 [==============================] - 0s 4ms/step - loss: 0.4310 - accuracy: 0.7822 - val_loss: 0.4439 - val_accuracy: 0.8190\nEpoch 68/100\n21/21 [==============================] - 0s 3ms/step - loss: 0.4293 - accuracy: 0.7853 - val_loss: 0.4443 - val_accuracy: 0.8190\nEpoch 69/100\n21/21 [==============================] - 0s 4ms/step - loss: 0.4286 - accuracy: 0.7899 - val_loss: 0.4448 - val_accuracy: 0.8190\nEpoch 70/100\n21/21 [==============================] - 0s 4ms/step - loss: 0.4284 - accuracy: 0.7883 - val_loss: 0.4441 - val_accuracy: 0.8103\nEpoch 71/100\n21/21 [==============================] - 0s 4ms/step - loss: 0.4281 - accuracy: 0.7899 - val_loss: 0.4448 - val_accuracy: 0.8103\nEpoch 72/100\n21/21 [==============================] - 0s 4ms/step - loss: 0.4273 - accuracy: 0.7899 - val_loss: 0.4453 - val_accuracy: 0.8017\nEpoch 73/100\n21/21 [==============================] - 0s 5ms/step - loss: 0.4273 - accuracy: 0.7868 - val_loss: 0.4454 - val_accuracy: 0.8103\nEpoch 74/100\n21/21 [==============================] - 0s 5ms/step - loss: 0.4268 - accuracy: 0.7899 - val_loss: 0.4443 - val_accuracy: 0.8190\nEpoch 75/100\n21/21 [==============================] - 0s 5ms/step - loss: 0.4265 - accuracy: 0.7929 - val_loss: 0.4460 - val_accuracy: 0.8190\nEpoch 76/100\n21/21 [==============================] - 0s 4ms/step - loss: 0.4255 - accuracy: 0.7899 - val_loss: 0.4459 - val_accuracy: 0.8190\nEpoch 77/100\n21/21 [==============================] - 0s 4ms/step - loss: 0.4253 - accuracy: 0.7914 - val_loss: 0.4468 - val_accuracy: 0.8190\nEpoch 78/100\n21/21 [==============================] - 0s 4ms/step - loss: 0.4254 - accuracy: 0.7899 - val_loss: 0.4478 - val_accuracy: 0.8190\nEpoch 79/100\n21/21 [==============================] - 0s 5ms/step - loss: 0.4248 - accuracy: 0.7929 - val_loss: 0.4466 - val_accuracy: 0.8190\nEpoch 80/100\n21/21 [==============================] - 0s 5ms/step - loss: 0.4240 - accuracy: 0.7945 - val_loss: 0.4482 - val_accuracy: 0.8190\nEpoch 81/100\n21/21 [==============================] - 0s 4ms/step - loss: 0.4231 - accuracy: 0.7945 - val_loss: 0.4484 - val_accuracy: 0.8190\nEpoch 82/100\n21/21 [==============================] - 0s 4ms/step - loss: 0.4230 - accuracy: 0.7929 - val_loss: 0.4488 - val_accuracy: 0.8190\nEpoch 83/100\n21/21 [==============================] - 0s 4ms/step - loss: 0.4225 - accuracy: 0.7960 - val_loss: 0.4488 - val_accuracy: 0.8190\nEpoch 84/100\n21/21 [==============================] - 0s 5ms/step - loss: 0.4220 - accuracy: 0.7945 - val_loss: 0.4487 - val_accuracy: 0.8190\nEpoch 85/100\n21/21 [==============================] - 0s 4ms/step - loss: 0.4220 - accuracy: 0.7914 - val_loss: 0.4512 - val_accuracy: 0.8190\nEpoch 86/100\n21/21 [==============================] - 0s 4ms/step - loss: 0.4214 - accuracy: 0.7960 - val_loss: 0.4500 - val_accuracy: 0.8190\nEpoch 87/100\n21/21 [==============================] - 0s 3ms/step - loss: 0.4207 - accuracy: 0.7929 - val_loss: 0.4507 - val_accuracy: 0.8190\nEpoch 88/100\n21/21 [==============================] - 0s 4ms/step - loss: 0.4209 - accuracy: 0.7975 - val_loss: 0.4511 - val_accuracy: 0.8190\nEpoch 89/100\n21/21 [==============================] - 0s 5ms/step - loss: 0.4199 - accuracy: 0.7960 - val_loss: 0.4508 - val_accuracy: 0.8190\nEpoch 90/100\n21/21 [==============================] - 0s 4ms/step - loss: 0.4199 - accuracy: 0.7960 - val_loss: 0.4530 - val_accuracy: 0.8190\nEpoch 91/100\n21/21 [==============================] - 0s 3ms/step - loss: 0.4196 - accuracy: 0.7991 - val_loss: 0.4534 - val_accuracy: 0.8190\nEpoch 92/100\n21/21 [==============================] - 0s 4ms/step - loss: 0.4189 - accuracy: 0.7991 - val_loss: 0.4534 - val_accuracy: 0.8190\nEpoch 93/100\n21/21 [==============================] - 0s 5ms/step - loss: 0.4187 - accuracy: 0.7991 - val_loss: 0.4540 - val_accuracy: 0.8276\nEpoch 94/100\n21/21 [==============================] - 0s 4ms/step - loss: 0.4193 - accuracy: 0.7975 - val_loss: 0.4557 - val_accuracy: 0.8190\nEpoch 95/100\n21/21 [==============================] - 0s 4ms/step - loss: 0.4179 - accuracy: 0.7975 - val_loss: 0.4559 - val_accuracy: 0.8190\nEpoch 96/100\n21/21 [==============================] - 0s 4ms/step - loss: 0.4177 - accuracy: 0.7945 - val_loss: 0.4550 - val_accuracy: 0.8276\nEpoch 97/100\n21/21 [==============================] - 0s 4ms/step - loss: 0.4171 - accuracy: 0.8021 - val_loss: 0.4548 - val_accuracy: 0.8190\nEpoch 98/100\n21/21 [==============================] - 0s 3ms/step - loss: 0.4171 - accuracy: 0.7960 - val_loss: 0.4558 - val_accuracy: 0.8190\nEpoch 99/100\n21/21 [==============================] - 0s 3ms/step - loss: 0.4171 - accuracy: 0.7945 - val_loss: 0.4572 - val_accuracy: 0.8276\nEpoch 100/100\n21/21 [==============================] - 0s 4ms/step - loss: 0.4161 - accuracy: 0.7975 - val_loss: 0.4573 - val_accuracy: 0.8276\n"
    },
    {
     "output_type": "execute_result",
     "data": {
      "text/plain": "<tensorflow.python.keras.callbacks.History at 0x235eb82dc88>"
     },
     "metadata": {},
     "execution_count": 64
    }
   ],
   "source": [
    "model.fit(Xtrain,Ytrain,epochs=100,validation_data=(Xtest,Ytest))"
   ]
  },
  {
   "cell_type": "code",
   "execution_count": 65,
   "metadata": {
    "tags": []
   },
   "outputs": [
    {
     "output_type": "stream",
     "name": "stdout",
     "text": "1/4 [======>.......................] - ETA: 0s - loss: 0.6059 - accuracy: 0.8125WARNING:tensorflow:Callbacks method `on_test_batch_begin` is slow compared to the batch time (batch time: 0.0000s vs `on_test_batch_begin` time: 0.0010s). Check your callbacks.\nWARNING:tensorflow:Callbacks method `on_test_batch_end` is slow compared to the batch time (batch time: 0.0000s vs `on_test_batch_end` time: 0.0010s). Check your callbacks.\n4/4 [==============================] - 0s 2ms/step - loss: 0.4573 - accuracy: 0.8276\n"
    }
   ],
   "source": [
    "result=model.evaluate(Xtest,Ytest)"
   ]
  },
  {
   "cell_type": "code",
   "execution_count": null,
   "metadata": {},
   "outputs": [],
   "source": []
  }
 ]
}